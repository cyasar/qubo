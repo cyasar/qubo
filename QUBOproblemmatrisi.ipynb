{
 "cells": [
  {
   "cell_type": "code",
   "execution_count": 1,
   "id": "6413a248-da31-4f7d-b966-c3be47e7aa63",
   "metadata": {
    "tags": []
   },
   "outputs": [
    {
     "name": "stdout",
     "output_type": "stream",
     "text": [
      "Optimal portföy kombinasyonu:\n",
      "Varlık 1: Yatırım yapılmıyor\n",
      "Varlık 2: Yatırım yapılmıyor\n",
      "Varlık 3: Yatırım yapılmıyor\n",
      "Varlık 4: Yatırım yapılmıyor\n",
      "Varlık 5: Yatırım yapılmıyor\n",
      "Varlık 6: Yatırım yapılmıyor\n",
      "Varlık 7: Yatırım yapılmıyor\n",
      "Varlık 8: Yatırım yapılıyor\n",
      "Varlık 9: Yatırım yapılıyor\n",
      "Varlık 10: Yatırım yapılmıyor\n"
     ]
    }
   ],
   "source": [
    "import numpy as np\n",
    "import dimod\n",
    "\n",
    "# Portföydeki varlık sayısı\n",
    "num_assets = 10\n",
    "\n",
    "# Rastgele getiri (mu) ve volatilite (sigma) değerlerini üretme\n",
    "np.random.seed(0)\n",
    "mu = np.random.rand(num_assets)  # Beklenen getiriler\n",
    "sigma = np.random.rand(num_assets, num_assets)  # Volatilite\n",
    "for i in range(num_assets):\n",
    "    sigma[i, i] = 1.0  # Diagonal elemanlar 1\n",
    "    for j in range(i+1, num_assets):\n",
    "        sigma[i, j] = sigma[j, i] = np.random.rand()  # Simetrik matris oluşturuluyor\n",
    "\n",
    "# Risk-getiri oranını dengeli bir şekilde belirleme\n",
    "risk_return_ratio = 0.5\n",
    "\n",
    "# QUBO problem matrisini oluşturma\n",
    "Q = {}\n",
    "for i in range(num_assets):\n",
    "    for j in range(num_assets):\n",
    "        if i == j:\n",
    "            Q[(i, i)] = -mu[i] + risk_return_ratio * sigma[i, i]  # Diagonal terimler\n",
    "        else:\n",
    "            Q[(i, j)] = risk_return_ratio * sigma[i, j]  # Off-diagonal terimler\n",
    "\n",
    "# Kuantum tavlama benzetimi ile problemi çözme\n",
    "sampler = dimod.SimulatedAnnealingSampler()  # Benzetimli tavlama örnekleyici\n",
    "response = sampler.sample_qubo(Q, num_reads=100)  # QUBO problemini çözme\n",
    "\n",
    "# En iyi çözümü alma\n",
    "portfolio = None\n",
    "for datum in response.data(['sample', 'energy']):\n",
    "    if portfolio is None or datum.energy < portfolio['energy']:\n",
    "        portfolio = {'combination': datum.sample, 'energy': datum.energy}\n",
    "\n",
    "# Sonuçları yazdırma\n",
    "print(\"Optimal portföy kombinasyonu:\")\n",
    "for asset in range(num_assets):\n",
    "    print(f\"Varlık {asset + 1}: {'Yatırım yapılıyor' if portfolio['combination'][asset] else 'Yatırım yapılmıyor'}\")\n"
   ]
  },
  {
   "cell_type": "code",
   "execution_count": null,
   "id": "f8f83094-8013-4ddd-b3ec-078895628cea",
   "metadata": {},
   "outputs": [],
   "source": []
  }
 ],
 "metadata": {
  "kernelspec": {
   "display_name": "Python 3 (ipykernel)",
   "language": "python",
   "name": "python3"
  },
  "language_info": {
   "codemirror_mode": {
    "name": "ipython",
    "version": 3
   },
   "file_extension": ".py",
   "mimetype": "text/x-python",
   "name": "python",
   "nbconvert_exporter": "python",
   "pygments_lexer": "ipython3",
   "version": "3.10.12"
  }
 },
 "nbformat": 4,
 "nbformat_minor": 5
}
